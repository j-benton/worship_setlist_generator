{
 "cells": [
  {
   "cell_type": "code",
   "execution_count": 2,
   "metadata": {},
   "outputs": [],
   "source": [
    "import numpy as np\n",
    "import pandas as pd\n",
    "import matplotlib.pyplot as plt\n",
    "import requests\n",
    "from bs4 import BeautifulSoup\n",
    "from tqdm import tqdm"
   ]
  },
  {
   "cell_type": "code",
   "execution_count": 7,
   "metadata": {},
   "outputs": [
    {
     "name": "stderr",
     "output_type": "stream",
     "text": [
      "\r",
      "  0%|          | 0/17 [00:00<?, ?it/s]"
     ]
    },
    {
     "name": "stdout",
     "output_type": "stream",
     "text": [
      "No lyrics found at https://www.praisecharts.com/songs/details/1808/make-it-glorious-sheet-music\n"
     ]
    },
    {
     "name": "stderr",
     "output_type": "stream",
     "text": [
      " 29%|██▉       | 5/17 [06:59<16:48, 84.07s/it]"
     ]
    },
    {
     "name": "stdout",
     "output_type": "stream",
     "text": [
      "No lyrics found at https://www.praisecharts.com/songs/details/9340/christmas-eve-service-guide-sheet-music\n"
     ]
    },
    {
     "name": "stderr",
     "output_type": "stream",
     "text": [
      " 53%|█████▎    | 9/17 [13:25<12:33, 94.15s/it]"
     ]
    },
    {
     "name": "stdout",
     "output_type": "stream",
     "text": [
      "No lyrics found at https://www.praisecharts.com/songs/details/23350/miraculum-sheet-music\n"
     ]
    },
    {
     "name": "stderr",
     "output_type": "stream",
     "text": [
      "100%|██████████| 17/17 [27:20<00:00, 96.53s/it] \n"
     ]
    }
   ],
   "source": [
    "# Sets base url for annual blog listing top 40 songs\n",
    "base_url = 'https://www.praisecharts.com/blog/top-40-worship-songs-of-'\n",
    "\n",
    "# Sets list of years to append to base url\n",
    "year_list = range(2004, 2021)\n",
    "\n",
    "# Creates empty list to collect dictionaries of song info\n",
    "song_dicts = []\n",
    "\n",
    "# Iterates through each year corresponding to a PraiseChart's top 40 blog\n",
    "# Uses tqdm progress bar to identify where code give errror, if it does\n",
    "for year in tqdm(year_list):\n",
    "    \n",
    "    # Appends year to base url, completing url path for each year's top 40 blog\n",
    "    songlist_url = base_url + str(year)\n",
    "    \n",
    "    # Makes request to access each year's top 40 blog\n",
    "    songlist_res = requests.get(songlist_url)\n",
    "    \n",
    "    # Retrieves HTML content for each year's top 40 blog\n",
    "    songlist_soup = BeautifulSoup(songlist_res.content, 'lxml')\n",
    "    \n",
    "    # Assigns top 40 blog's track list to variable\n",
    "    top_40 = songlist_soup.find('div', {'class': 'blog-entry'})\n",
    "    \n",
    "    # Iterates through each track name in top 40 list\n",
    "    for song in top_40.find_all('h4'):\n",
    "        \n",
    "        # Finds track info link attached to track name and saves url to variable\n",
    "        track_url = song.find('a').attrs['href']\n",
    "        \n",
    "        # Makes request to access each track's info page\n",
    "        track_res = requests.get(track_url)\n",
    "        \n",
    "        # Retrieves HTML content for each track's info page\n",
    "        track_soup = BeautifulSoup(track_res.content, 'lxml')\n",
    "        \n",
    "        # Finds sidebar containing track lyrics\n",
    "        lyrics_sidebar = track_soup.find('section', {'id': 'sidebar'}).find('div', {'class': 'lyrics'})\n",
    "        \n",
    "        # Creates empty list to store lyrics\n",
    "        song_lyrics = []\n",
    "        \n",
    "        # If track info page contains lyrics, stores each line of lyrics in above list\n",
    "        try:\n",
    "            for lyric in lyrics_sidebar.find_all('div'):\n",
    "                \n",
    "                # Removes non-lyric text, such as song section label\n",
    "                if lyric.attrs['data-line'] not in ['Verse ', 'Verse 1', 'Verse 2', 'Verse 3',\n",
    "                                                    'Chorus', 'Chorus ', 'Chorus 1', 'Chorus 2',\n",
    "                                                    'Chorus 3', 'Bridge', 'Bridge ', 'Vamp ',\n",
    "                                                   'tag',]:\n",
    "                    \n",
    "                    # Ensures lyric text is lowercase\n",
    "                    song_lyrics.append(lyric.text.lower())  \n",
    "        \n",
    "        # Creates exception if track info page doesn't contain lyrics and identifies song\n",
    "        except:\n",
    "            print(f'No lyrics found at {track_url}')\n",
    "        \n",
    "        # Finds table containing track info\n",
    "        track_info_table = track_soup.find('table')\n",
    "        \n",
    "        # Creates emtpy dictionary to store track info\n",
    "        track_info = {}\n",
    "        \n",
    "        # Iterates through track info \n",
    "        for info in track_info_table.find_all('tr'):\n",
    "            \n",
    "            # Stores track info in dictionary\n",
    "            track_info[info.find_all('td')[0].text[:-1]] = info.find_all('td')[1].text.rstrip()\n",
    "        \n",
    "        # Adds lyrics to dictionary\n",
    "        track_info['lyrics'] = song_lyrics\n",
    "        \n",
    "        # Adds track title to dictionary\n",
    "        track_info['song'] = track_soup.find('h1', {'id': 'product-detail-title'}).text.lstrip().rstrip()\n",
    "        \n",
    "        # Adds year song was on PraseChart's annual top 40 list to dictionary\n",
    "        track_info['year'] = year\n",
    "        \n",
    "        # Stores dictionary in song_dicts list\n",
    "        song_dicts.append(track_info)"
   ]
  },
  {
   "cell_type": "code",
   "execution_count": 8,
   "metadata": {},
   "outputs": [
    {
     "data": {
      "text/plain": [
       "674"
      ]
     },
     "execution_count": 8,
     "metadata": {},
     "output_type": "execute_result"
    }
   ],
   "source": [
    "len(song_dicts)"
   ]
  },
  {
   "cell_type": "code",
   "execution_count": 9,
   "metadata": {},
   "outputs": [],
   "source": [
    "pd.DataFrame(song_dicts).to_csv('song_list')"
   ]
  }
 ],
 "metadata": {
  "kernelspec": {
   "display_name": "Python 3",
   "language": "python",
   "name": "python3"
  },
  "language_info": {
   "codemirror_mode": {
    "name": "ipython",
    "version": 3
   },
   "file_extension": ".py",
   "mimetype": "text/x-python",
   "name": "python",
   "nbconvert_exporter": "python",
   "pygments_lexer": "ipython3",
   "version": "3.7.7"
  }
 },
 "nbformat": 4,
 "nbformat_minor": 4
}
