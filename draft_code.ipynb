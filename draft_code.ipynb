version https://git-lfs.github.com/spec/v1
oid sha256:034f1fbf7f5b595a908214653d456c3f3cf0a2b1a80e22843cdcb053faf78a43
size 6583
