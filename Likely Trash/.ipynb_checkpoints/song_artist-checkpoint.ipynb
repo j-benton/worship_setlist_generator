{
 "cells": [
  {
   "cell_type": "markdown",
   "metadata": {},
   "source": [
    "# Data Collection & EDA"
   ]
  },
  {
   "cell_type": "code",
   "execution_count": 11,
   "metadata": {},
   "outputs": [],
   "source": [
    "import numpy as np\n",
    "import pandas as pd\n",
    "import matplotlib.pyplot as plt\n",
    "\n",
    "import requests\n",
    "import nltk\n",
    "from nltk.stem import WordNetLemmatizer\n",
    "from nltk.tokenize import RegexpTokenizer\n",
    "from nltk.corpus import stopwords\n",
    "import re\n",
    "from bs4 import BeautifulSoup"
   ]
  },
  {
   "cell_type": "code",
   "execution_count": 14,
   "metadata": {},
   "outputs": [
    {
     "data": {
      "text/plain": [
       "200"
      ]
     },
     "execution_count": 14,
     "metadata": {},
     "output_type": "execute_result"
    }
   ],
   "source": [
    "url = 'https://www.praisecharts.com/blog/top-40-worship-songs-of-2004/'\n",
    "res = requests.get(url)\n",
    "res.status_code"
   ]
  },
  {
   "cell_type": "code",
   "execution_count": 64,
   "metadata": {},
   "outputs": [],
   "source": [
    "soup = BeautifulSoup(res.content, 'lxml')\n",
    "top_40 = soup.find('div', {'class': 'blog-entry'})"
   ]
  },
  {
   "cell_type": "code",
   "execution_count": 65,
   "metadata": {},
   "outputs": [
    {
     "data": {
      "text/plain": [
       "35"
      ]
     },
     "execution_count": 65,
     "metadata": {},
     "output_type": "execute_result"
    }
   ],
   "source": [
    "songs = [song.text for song in top_40.find_all('h4')]\n",
    "len(songs)"
   ]
  },
  {
   "cell_type": "code",
   "execution_count": 66,
   "metadata": {},
   "outputs": [],
   "source": [
    "artists = top_40.find_all('div', {'class': 'song-list-detail-names'})\n",
    "artist_list = []\n",
    "for x in range(len(artists)):\n",
    "    artist_list.append(artists[x].find_all('a')[0].attrs['title'])"
   ]
  },
  {
   "cell_type": "code",
   "execution_count": 67,
   "metadata": {},
   "outputs": [
    {
     "data": {
      "text/plain": [
       "35"
      ]
     },
     "execution_count": 67,
     "metadata": {},
     "output_type": "execute_result"
    }
   ],
   "source": [
    "len(artist_list)"
   ]
  },
  {
   "cell_type": "code",
   "execution_count": null,
   "metadata": {},
   "outputs": [],
   "source": [
    "songs = [song.text for song in top_40.find_all('h4')]\n",
    "for song in top_40.find_all('h4'):\n",
    "    song = {}\n",
    "    \n",
    "    \n",
    "#     song['song'] = row.find('a').text # getting text from a-tab\n",
    "#     song['team'] = row.find('a').attrs['title'] # getting team name by referencing attribute 'title'\n",
    "#     song['wins'] = row.find('td', {'data-stat' : 'wins'}).text\n",
    "#     team['losses'] = row.find('td', {'data-stat' : 'losses'}).text\n",
    "#     teams.append(team)\n",
    "    \n",
    "# pd.DataFrame(teams)"
   ]
  },
  {
   "cell_type": "code",
   "execution_count": null,
   "metadata": {},
   "outputs": [],
   "source": [
    "url = 'https://www.praisecharts.com/blog/top-40-worship-songs-of-'\n",
    "year_list = range(2004, 2021)\n",
    "\n",
    "for year in year_list:\n",
    "    \n",
    "res = requests.get(url + )"
   ]
  }
 ],
 "metadata": {
  "kernelspec": {
   "display_name": "Python 3",
   "language": "python",
   "name": "python3"
  },
  "language_info": {
   "codemirror_mode": {
    "name": "ipython",
    "version": 3
   },
   "file_extension": ".py",
   "mimetype": "text/x-python",
   "name": "python",
   "nbconvert_exporter": "python",
   "pygments_lexer": "ipython3",
   "version": "3.7.7"
  }
 },
 "nbformat": 4,
 "nbformat_minor": 4
}
