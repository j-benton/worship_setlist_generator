{
 "cells": [
  {
   "cell_type": "markdown",
   "metadata": {},
   "source": [
    "# Data Collection & EDA"
   ]
  },
  {
   "cell_type": "code",
   "execution_count": 1,
   "metadata": {},
   "outputs": [
    {
     "name": "stderr",
     "output_type": "stream",
     "text": [
      "\n",
      "Bad key \"text.kerning_factor\" on line 4 in\n",
      "/Users/jonathanbenton/opt/anaconda3/envs/dsi/lib/python3.7/site-packages/matplotlib/mpl-data/stylelib/_classic_test_patch.mplstyle.\n",
      "You probably need to get an updated matplotlibrc file from\n",
      "https://github.com/matplotlib/matplotlib/blob/v3.1.3/matplotlibrc.template\n",
      "or from the matplotlib source distribution\n"
     ]
    }
   ],
   "source": [
    "import numpy as np\n",
    "import pandas as pd\n",
    "import matplotlib.pyplot as plt\n",
    "\n",
    "import requests\n",
    "import nltk\n",
    "from nltk.stem import WordNetLemmatizer\n",
    "from nltk.tokenize import RegexpTokenizer\n",
    "from nltk.corpus import stopwords\n",
    "import re\n",
    "from bs4 import BeautifulSoup"
   ]
  },
  {
   "cell_type": "code",
   "execution_count": 2,
   "metadata": {},
   "outputs": [
    {
     "data": {
      "text/plain": [
       "200"
      ]
     },
     "execution_count": 2,
     "metadata": {},
     "output_type": "execute_result"
    }
   ],
   "source": [
    "url = 'https://www.praisecharts.com/blog/top-40-worship-songs-of-2004/'\n",
    "res = requests.get(url)\n",
    "res.status_code"
   ]
  },
  {
   "cell_type": "code",
   "execution_count": 26,
   "metadata": {},
   "outputs": [],
   "source": [
    "soup = BeautifulSoup(res.content, 'lxml')\n",
    "top_40 = soup.find('div', {'class': 'blog-entry'})"
   ]
  },
  {
   "cell_type": "code",
   "execution_count": 102,
   "metadata": {},
   "outputs": [
    {
     "data": {
      "text/plain": [
       "'https://www.praisecharts.com/songs/details/1533/i-can-only-imagine-sheet-music'"
      ]
     },
     "execution_count": 102,
     "metadata": {},
     "output_type": "execute_result"
    }
   ],
   "source": [
    "top_40.find_all('h4')[0].find('a').attrs['href']"
   ]
  },
  {
   "cell_type": "code",
   "execution_count": null,
   "metadata": {},
   "outputs": [],
   "source": []
  },
  {
   "cell_type": "code",
   "execution_count": 31,
   "metadata": {},
   "outputs": [
    {
     "data": {
      "text/plain": [
       "200"
      ]
     },
     "execution_count": 31,
     "metadata": {},
     "output_type": "execute_result"
    }
   ],
   "source": [
    "url2 = 'https://www.praisecharts.com/songs/details/1724/open-the-eyes-of-my-heart-sheet-music'\n",
    "res2 = requests.get(url2)\n",
    "res2.status_code"
   ]
  },
  {
   "cell_type": "code",
   "execution_count": 76,
   "metadata": {},
   "outputs": [
    {
     "data": {
      "text/plain": [
       "'English'"
      ]
     },
     "execution_count": 76,
     "metadata": {},
     "output_type": "execute_result"
    }
   ],
   "source": [
    "soup2 = BeautifulSoup(res2.content, 'lxml')\n",
    "meta = soup2.find('table')\n",
    "meta.find_all('tr')[1].find_all('td')[1].text.rstrip()"
   ]
  },
  {
   "cell_type": "code",
   "execution_count": 109,
   "metadata": {},
   "outputs": [
    {
     "data": {
      "text/plain": [
       "'Open The Eyes Of My Heart'"
      ]
     },
     "execution_count": 109,
     "metadata": {},
     "output_type": "execute_result"
    }
   ],
   "source": [
    "soup2.find('h1', {'id': 'product-detail-title'}).text.lstrip().rstrip()"
   ]
  },
  {
   "cell_type": "code",
   "execution_count": 66,
   "metadata": {},
   "outputs": [
    {
     "name": "stdout",
     "output_type": "stream",
     "text": [
      "<tr>\n",
      "<td>Song ID:</td>\n",
      "<td>1724</td>\n",
      "</tr>\n",
      "<tr>\n",
      "<td>Language:</td>\n",
      "<td>English\n",
      "\t\t\t\t\t\t\t\t\t\t</td>\n",
      "</tr>\n",
      "<tr>\n",
      "<td>Album:</td>\n",
      "<td><a href=\"/albums/details/39\">WOW Worship Blue</a>\n",
      "</td>\n",
      "</tr>\n"
     ]
    }
   ],
   "source": [
    "for i in meta.find_all('tr')[:3]:\n",
    "    print(i)"
   ]
  },
  {
   "cell_type": "code",
   "execution_count": 105,
   "metadata": {},
   "outputs": [
    {
     "data": {
      "text/plain": [
       "[{'Song ID': '1724'},\n",
       " {'Language': 'English'},\n",
       " {'Album': 'WOW Worship Blue'},\n",
       " {'Artist': 'Paul Baloche'},\n",
       " {'Authors': 'Paul Baloche'},\n",
       " {'Arrangers': 'David Shipps'},\n",
       " {'Publishers': 'Integrity Music'},\n",
       " {'CCLI Song #': '2298355'},\n",
       " {'Tempo': 'Med Fast'},\n",
       " {'Style': 'Contemporary'},\n",
       " {'Original Key': 'E'},\n",
       " {'Available Keys': 'E, F'},\n",
       " {'Meter': '4/4'},\n",
       " {'Source': 'PraiseCharts'},\n",
       " {'Themes': 'Choral, Adoration, Glory, Heart, Holiness, Light, Love, Power, Cleansing, Humility, Longing, Prayer, Surrender'}]"
      ]
     },
     "execution_count": 105,
     "metadata": {},
     "output_type": "execute_result"
    }
   ],
   "source": [
    "meta_data = []\n",
    "for i in meta.find_all('tr'):\n",
    "    data = {}\n",
    "    data[i.find_all('td')[0].text[:-1]] = i.find_all('td')[1].text.rstrip()\n",
    "    meta_data.append(data)\n",
    "meta_data"
   ]
  },
  {
   "cell_type": "markdown",
   "metadata": {},
   "source": [
    "# Lyrics"
   ]
  },
  {
   "cell_type": "code",
   "execution_count": 80,
   "metadata": {},
   "outputs": [
    {
     "data": {
      "text/plain": [
       "<div class=\"lyrics\">\n",
       "<div data-line=\"Verse \">Verse </div>\n",
       "<div data-line=\"Open the eyes of my heart Lord, open the eyes of my heart\">Open the eyes of my heart Lord, open the eyes of my heart</div>\n",
       "<div data-line=\"I want to see You, I want to see You\">I want to see You, I want to see You</div>\n",
       "<div data-line=\"Open the eyes of my heart Lord, Open the eyes of my heart\">Open the eyes of my heart Lord, Open the eyes of my heart</div>\n",
       "<div data-line=\"I want to see You, I want to see You\">I want to see You, I want to see You</div>\n",
       "<div data-line=\"\"></div>\n",
       "<div data-line=\"Chorus\">Chorus</div>\n",
       "<div data-line=\"To see You high and lifted up\">To see You high and lifted up</div>\n",
       "<div data-line=\"Shining in the light of Your glory\">Shining in the light of Your glory</div>\n",
       "<div data-line=\"Pour out Your power and love\">Pour out Your power and love</div>\n",
       "<div data-line=\"As we sing holy holy holy\">As we sing holy holy holy</div>\n",
       "<div data-line=\"\"></div>\n",
       "<div data-line=\"Vamp \">Vamp </div>\n",
       "<div data-line=\"Holy holy holy, holy holy holy\">Holy holy holy, holy holy holy</div>\n",
       "<div data-line=\"Holy holy holy, I want to see You\">Holy holy holy, I want to see You</div>\n",
       "<div data-line=\"\"></div>\n",
       "<div data-line=\"End\">End</div>\n",
       "<div data-line=\"I want to see You, I want to see You\">I want to see You, I want to see You</div>\n",
       "<div data-line=\"\"></div>\n",
       "<div data-line=\"\"></div>\n",
       "</div>"
      ]
     },
     "execution_count": 80,
     "metadata": {},
     "output_type": "execute_result"
    }
   ],
   "source": [
    "lyrics = soup.find('section', {'id': 'sidebar'}).find('div', {'class': 'lyrics'})\n",
    "lyrics"
   ]
  },
  {
   "cell_type": "code",
   "execution_count": 104,
   "metadata": {},
   "outputs": [
    {
     "data": {
      "text/plain": [
       "['open the eyes of my heart lord, open the eyes of my heart',\n",
       " 'i want to see you, i want to see you',\n",
       " 'open the eyes of my heart lord, open the eyes of my heart',\n",
       " 'i want to see you, i want to see you',\n",
       " '',\n",
       " 'to see you high and lifted up',\n",
       " 'shining in the light of your glory',\n",
       " 'pour out your power and love',\n",
       " 'as we sing holy holy holy',\n",
       " '',\n",
       " 'holy holy holy, holy holy holy',\n",
       " 'holy holy holy, i want to see you',\n",
       " '',\n",
       " 'end',\n",
       " 'i want to see you, i want to see you',\n",
       " '',\n",
       " '']"
      ]
     },
     "execution_count": 104,
     "metadata": {},
     "output_type": "execute_result"
    }
   ],
   "source": [
    "song_lyrics = []\n",
    "for i in lyrics.find_all('div'):\n",
    "    if i.attrs['data-line'] not in ['Verse ', 'Chorus', 'Vamp ']:\n",
    "        song_lyrics.append(i.text.lower())\n",
    "song_lyrics"
   ]
  },
  {
   "cell_type": "code",
   "execution_count": null,
   "metadata": {},
   "outputs": [],
   "source": []
  }
 ],
 "metadata": {
  "kernelspec": {
   "display_name": "Python 3",
   "language": "python",
   "name": "python3"
  },
  "language_info": {
   "codemirror_mode": {
    "name": "ipython",
    "version": 3
   },
   "file_extension": ".py",
   "mimetype": "text/x-python",
   "name": "python",
   "nbconvert_exporter": "python",
   "pygments_lexer": "ipython3",
   "version": "3.7.7"
  }
 },
 "nbformat": 4,
 "nbformat_minor": 4
}
