version https://git-lfs.github.com/spec/v1
oid sha256:77f1b6dec5e3c0fa796b6a990446e610294687833117bfeab38f82b6ef0446ec
size 27973
